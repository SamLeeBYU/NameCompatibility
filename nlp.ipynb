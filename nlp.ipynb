{
 "cells": [
  {
   "cell_type": "code",
   "execution_count": 1,
   "id": "c117c9d3",
   "metadata": {},
   "outputs": [
    {
     "name": "stderr",
     "output_type": "stream",
     "text": [
      "C:\\Users\\Owner\\AppData\\Local\\Programs\\Python\\Python311\\Lib\\site-packages\\tqdm\\auto.py:22: TqdmWarning: IProgress not found. Please update jupyter and ipywidgets. See https://ipywidgets.readthedocs.io/en/stable/user_install.html\n",
      "  from .autonotebook import tqdm as notebook_tqdm\n",
      "[nltk_data] Downloading package punkt to\n",
      "[nltk_data]     C:\\Users\\Owner\\AppData\\Roaming\\nltk_data...\n",
      "[nltk_data]   Package punkt is already up-to-date!\n",
      "pytorch_model.bin: 100%|████████████████████████████████████████████████████████████| 476M/476M [00:44<00:00, 10.7MB/s]\n",
      "C:\\Users\\Owner\\AppData\\Local\\Programs\\Python\\Python311\\Lib\\site-packages\\huggingface_hub\\file_download.py:149: UserWarning: `huggingface_hub` cache-system uses symlinks by default to efficiently store duplicated files but your machine does not support them in C:\\Users\\Owner\\.cache\\huggingface\\hub\\models--kykim--bert-kor-base. Caching files will still work but in a degraded version that might require more space on your disk. This warning can be disabled by setting the `HF_HUB_DISABLE_SYMLINKS_WARNING` environment variable. For more details, see https://huggingface.co/docs/huggingface_hub/how-to-cache#limitations.\n",
      "To support symlinks on Windows, you either need to activate Developer Mode or to run Python as an administrator. In order to see activate developer mode, see this article: https://docs.microsoft.com/en-us/windows/apps/get-started/enable-your-device-for-development\n",
      "  warnings.warn(message)\n",
      "Some weights of BertForSequenceClassification were not initialized from the model checkpoint at kykim/bert-kor-base and are newly initialized: ['classifier.bias', 'classifier.weight']\n",
      "You should probably TRAIN this model on a down-stream task to be able to use it for predictions and inference.\n",
      "tokenizer_config.json: 100%|████████████████████████████████████████████████████████████████| 80.0/80.0 [00:00<?, ?B/s]\n",
      "vocab.txt: 100%|█████████████████████████████████████████████████████████████████████| 344k/344k [00:00<00:00, 377kB/s]\n"
     ]
    }
   ],
   "source": [
    "import nltk\n",
    "from nltk.tokenize import word_tokenize\n",
    "from transformers import pipeline\n",
    "\n",
    "nltk.download('punkt')\n",
    "\n",
    "sentiment_pipeline = pipeline(task=\"sentiment-analysis\", model=\"kykim/bert-kor-base\")"
   ]
  },
  {
   "cell_type": "code",
   "execution_count": 5,
   "id": "584ef639",
   "metadata": {},
   "outputs": [],
   "source": [
    "from nltk.tokenize import RegexpTokenizer\n",
    "\n",
    "syllable_pattern = \"[가-힣]\"\n",
    "tokenizer = RegexpTokenizer(syllable_pattern)"
   ]
  },
  {
   "cell_type": "code",
   "execution_count": 11,
   "id": "1823de72",
   "metadata": {},
   "outputs": [
    {
     "data": {
      "text/plain": [
       "['김', '민', '지']"
      ]
     },
     "execution_count": 11,
     "metadata": {},
     "output_type": "execute_result"
    }
   ],
   "source": [
    "tokenizer.tokenize(\"김민지\")\n",
    "[char for char in \"김민지\"]"
   ]
  },
  {
   "cell_type": "code",
   "execution_count": 76,
   "id": "8bf3e1de",
   "metadata": {},
   "outputs": [],
   "source": [
    "글자 = {\n",
    "    \"leads\": ['ㄱ', 'ㄲ', 'ㄴ', 'ㄷ', 'ㄸ', 'ㄹ', 'ㅁ', 'ㅂ', 'ㅃ', 'ㅅ', 'ㅆ', 'ㅇ', 'ㅈ', 'ㅉ', 'ㅊ', 'ㅋ', 'ㅌ', 'ㅍ', 'ㅎ'],\n",
    "    \"vowels\": ['ㅏ', 'ㅐ', 'ㅑ', 'ㅒ', 'ㅓ', 'ㅔ', 'ㅕ', 'ㅖ', 'ㅗ', 'ㅘ', 'ㅙ', 'ㅚ', 'ㅛ', 'ㅜ', 'ㅝ', 'ㅞ', 'ㅟ', 'ㅠ', 'ㅡ', 'ㅢ', 'ㅣ'],\n",
    "    \"tails\": ['', 'ㄱ', 'ㄲ', 'ㄳ', 'ㄴ', 'ㄵ', 'ㄶ', 'ㄷ', 'ㄹ', 'ㄺ', 'ㄻ', 'ㄼ', 'ㄽ', 'ㄾ', 'ㄿ', 'ㅀ', 'ㅁ', 'ㅂ', 'ㅄ', 'ㅅ', 'ㅆ', 'ㅇ', 'ㅈ', 'ㅊ', 'ㅋ', 'ㅌ', 'ㅍ', 'ㅎ']\n",
    "}\n",
    "\n",
    "def decompose(word):\n",
    "    \n",
    "    def decompose_hangul(syllable):\n",
    "        # Initialize lists for lead, vowel, and tail characters\n",
    "        lead_chars, vowel_chars, tail_chars = [], [], []\n",
    "\n",
    "        # Decompose the Hangul syllable into Jamo characters\n",
    "        for char in syllable:\n",
    "            if '가' <= char <= '힣':\n",
    "                # Calculate the index of the Jamo in the Unicode table\n",
    "                index = ord(char) - ord('가')\n",
    "\n",
    "                # Calculate the indices for lead, vowel, and tail\n",
    "                lead_index = index // (21 * 28)\n",
    "                vowel_index = (index // 28) % 21\n",
    "                tail_index = index % 28\n",
    "\n",
    "                # Append the corresponding Jamo characters to their lists\n",
    "                lead_chars.append(글자[\"leads\"][lead_index])\n",
    "                vowel_chars.append(글자[\"vowels\"][vowel_index])\n",
    "                tail_chars.append(글자[\"tails\"][tail_index])\n",
    "\n",
    "        return lead_chars, vowel_chars, tail_chars\n",
    "\n",
    "    # Decompose each syllable into Jamo characters\n",
    "    lead_chars, vowel_chars, tail_chars = zip(*[decompose_hangul(syllable) for syllable in word])\n",
    "\n",
    "    # Flatten the lists and print the result\n",
    "    result = [\n",
    "        char for sublist in zip(lead_chars, vowel_chars, tail_chars) for char_list in sublist for char in char_list\n",
    "    ]\n",
    "    \n",
    "    return result"
   ]
  },
  {
   "cell_type": "code",
   "execution_count": 39,
   "id": "0c0f8b54",
   "metadata": {},
   "outputs": [
    {
     "data": {
      "text/plain": [
       "[2, 1, 4, 4, 1, 2, 3, 1, 0]"
      ]
     },
     "execution_count": 39,
     "metadata": {},
     "output_type": "execute_result"
    }
   ],
   "source": [
    "locs = [\"leads\", \"vowels\", \"tails\"]\n",
    "def map_strokes(character, index):\n",
    "    loc = locs[index % 3]\n",
    "    strokes = {\n",
    "        \"leads\": [2, 4, 2, 3, 6, 5, 4, 4, 8, 2, 4, 1, 3, 6, 4, 3, 4, 4, 3],\n",
    "        \"vowels\": [2, 3, 3, 4, 2, 2, 3, 3, 3, 4, 2, 4, 5, 3, 3, 2, 4, 5, 3, 3, 1, 2, 1],\n",
    "        \"tails\": [0, 2, 4, 4, 2, 5, 5, 3, 5, 7, 9, 9, 7, 9, 9, 8, 4, 4, 6, 2, 4, 1, 3, 4, 3, 4, 4, 3]\n",
    "    }\n",
    "    for i in range(0, len(글자[loc])):\n",
    "        if(character == 글자[loc][i]):\n",
    "            return strokes[loc][i]"
   ]
  },
  {
   "cell_type": "code",
   "execution_count": 78,
   "id": "caa9dfb2",
   "metadata": {},
   "outputs": [
    {
     "data": {
      "text/plain": [
       "[1, 1, 0, 2, 1, 4, 2, 3, 4, 4, 1, 2, 5, 1, 0, 3, 1, 0]"
      ]
     },
     "execution_count": 78,
     "metadata": {},
     "output_type": "execute_result"
    }
   ],
   "source": [
    "def arrange_names(n1, n2):\n",
    "    n1_split = [char for char in n1]\n",
    "    n2_split = [char for char in n2]\n",
    "    diff = abs(len(n1_split)-len(n2_split))\n",
    "    combined = n1_split + n2_split\n",
    "    interweved = [n1_split[0]]\n",
    "    for i in range(1, len(combined)+diff):\n",
    "        try:\n",
    "            if i % 2 == 1:\n",
    "                interweved.append(n2_split[int((i-1)/2)])\n",
    "            else:\n",
    "                interweved.append(n1_split[int(i/2)])\n",
    "        except Exception as e:\n",
    "            interweved.append(\"\")   \n",
    "    return \"\".join(interweved)"
   ]
  },
  {
   "cell_type": "code",
   "execution_count": 81,
   "id": "b55acf6a",
   "metadata": {},
   "outputs": [
    {
     "data": {
      "text/plain": [
       "[2, 7, 9, 7, 6, 4]"
      ]
     },
     "execution_count": 81,
     "metadata": {},
     "output_type": "execute_result"
    }
   ],
   "source": [
    "decomposition = [map_strokes(char, i) for i, char in enumerate(decompose(arrange_names(\"이샘리\", \"김민지\")))]\n",
    "이름점 = [sum(decomposition[i:i+3]) for i in range(0, len(decomposition)-2, 3)]\n",
    "이름점"
   ]
  },
  {
   "cell_type": "code",
   "execution_count": 96,
   "id": "bb9a421e",
   "metadata": {},
   "outputs": [
    {
     "data": {
      "text/plain": [
       "83"
      ]
     },
     "execution_count": 96,
     "metadata": {},
     "output_type": "execute_result"
    }
   ],
   "source": [
    "def 평가하기(이름점):\n",
    "    이름궁합 = [j % 10 for j in [sum(이름점[i:i+2]) for i in range(0, len(이름점)-1)]]\n",
    "    while len(이름궁합) >= 3:\n",
    "        if(int(\"\".join([str(숫자) for 숫자 in 이름궁합])) == 100):\n",
    "            break\n",
    "        \n",
    "        이름궁합 = [j % 10 for j in [sum(이름궁합[i:i+2]) for i in range(0, len(이름궁합)-1)]]\n",
    "    return int(\"\".join([str(숫자) for 숫자 in 이름궁합]))\n",
    "\n",
    "평가하기(이름점)"
   ]
  },
  {
   "cell_type": "code",
   "execution_count": 120,
   "id": "e9bf6787",
   "metadata": {},
   "outputs": [],
   "source": [
    "import pandas as pd\n",
    "import requests\n",
    "from bs4 import BeautifulSoup\n",
    "import math\n",
    "\n",
    "url = \"https://en.wikipedia.org/wiki/List_of_the_most_popular_given_names_in_South_Korea#cite_note-KukminIlbo20193-2\"\n",
    "\n",
    "response = requests.get(url)\n",
    "soup = BeautifulSoup(response.content, \"html.parser\")\n",
    "tables = soup.find_all(\"table\", class_=\"wikitable\")\n",
    "\n",
    "years = [2021, 2019, 2017, 2015, 2013, 2011, 2009, 2007, 2004, 1990, 1980, 1970, 1960, 1950, 1945, 1940]\n",
    "\n",
    "popular_names = pd.DataFrame()\n",
    "for i in range(0, len(tables), 2):\n",
    "    boys = pd.read_html(str(tables[i]), header=0)[0][[\"Hangul\"]]\n",
    "    boys[\"성\"] = \"남\"\n",
    "    girls = pd.read_html(str(tables[i+1]), header=0)[0][[\"Hangul\"]]\n",
    "    girls[\"성\"] = \"여\"\n",
    "    \n",
    "    combined = pd.concat([boys, girls])\n",
    "    combined[\"년\"] = years[math.floor(i/2)]\n",
    "    \n",
    "    if years[math.floor(i/2)] == 2015:\n",
    "        combined.drop(combined.index[-1], inplace=True)\n",
    "    \n",
    "    if popular_names.empty:\n",
    "        popular_names = combined.copy()\n",
    "    else:\n",
    "        popular_names = pd.concat([popular_names, combined])\n",
    "        \n",
    "popular_names.rename(columns={\"Hangul\": \"이름\"}, inplace=True)\n",
    "popular_names.reset_index(drop=True, inplace=True)"
   ]
  },
  {
   "cell_type": "code",
   "execution_count": 122,
   "id": "3b743a93",
   "metadata": {},
   "outputs": [
    {
     "data": {
      "text/html": [
       "<div>\n",
       "<style scoped>\n",
       "    .dataframe tbody tr th:only-of-type {\n",
       "        vertical-align: middle;\n",
       "    }\n",
       "\n",
       "    .dataframe tbody tr th {\n",
       "        vertical-align: top;\n",
       "    }\n",
       "\n",
       "    .dataframe thead th {\n",
       "        text-align: right;\n",
       "    }\n",
       "</style>\n",
       "<table border=\"1\" class=\"dataframe\">\n",
       "  <thead>\n",
       "    <tr style=\"text-align: right;\">\n",
       "      <th></th>\n",
       "      <th>이름</th>\n",
       "      <th>성</th>\n",
       "      <th>년</th>\n",
       "    </tr>\n",
       "  </thead>\n",
       "  <tbody>\n",
       "    <tr>\n",
       "      <th>0</th>\n",
       "      <td>이준</td>\n",
       "      <td>남</td>\n",
       "      <td>2021</td>\n",
       "    </tr>\n",
       "    <tr>\n",
       "      <th>1</th>\n",
       "      <td>서준</td>\n",
       "      <td>남</td>\n",
       "      <td>2021</td>\n",
       "    </tr>\n",
       "    <tr>\n",
       "      <th>2</th>\n",
       "      <td>하준</td>\n",
       "      <td>남</td>\n",
       "      <td>2021</td>\n",
       "    </tr>\n",
       "    <tr>\n",
       "      <th>3</th>\n",
       "      <td>도윤</td>\n",
       "      <td>남</td>\n",
       "      <td>2021</td>\n",
       "    </tr>\n",
       "    <tr>\n",
       "      <th>4</th>\n",
       "      <td>은우</td>\n",
       "      <td>남</td>\n",
       "      <td>2021</td>\n",
       "    </tr>\n",
       "    <tr>\n",
       "      <th>...</th>\n",
       "      <td>...</td>\n",
       "      <td>...</td>\n",
       "      <td>...</td>\n",
       "    </tr>\n",
       "    <tr>\n",
       "      <th>5</th>\n",
       "      <td>정자</td>\n",
       "      <td>여</td>\n",
       "      <td>1940</td>\n",
       "    </tr>\n",
       "    <tr>\n",
       "      <th>6</th>\n",
       "      <td>순자</td>\n",
       "      <td>여</td>\n",
       "      <td>1940</td>\n",
       "    </tr>\n",
       "    <tr>\n",
       "      <th>7</th>\n",
       "      <td>순희</td>\n",
       "      <td>여</td>\n",
       "      <td>1940</td>\n",
       "    </tr>\n",
       "    <tr>\n",
       "      <th>8</th>\n",
       "      <td>정순</td>\n",
       "      <td>여</td>\n",
       "      <td>1940</td>\n",
       "    </tr>\n",
       "    <tr>\n",
       "      <th>9</th>\n",
       "      <td>춘자</td>\n",
       "      <td>여</td>\n",
       "      <td>1940</td>\n",
       "    </tr>\n",
       "  </tbody>\n",
       "</table>\n",
       "<p>320 rows × 3 columns</p>\n",
       "</div>"
      ],
      "text/plain": [
       "    이름  성     년\n",
       "0   이준  남  2021\n",
       "1   서준  남  2021\n",
       "2   하준  남  2021\n",
       "3   도윤  남  2021\n",
       "4   은우  남  2021\n",
       "..  .. ..   ...\n",
       "5   정자  여  1940\n",
       "6   순자  여  1940\n",
       "7   순희  여  1940\n",
       "8   정순  여  1940\n",
       "9   춘자  여  1940\n",
       "\n",
       "[320 rows x 3 columns]"
      ]
     },
     "execution_count": 122,
     "metadata": {},
     "output_type": "execute_result"
    }
   ],
   "source": [
    "popular_names"
   ]
  },
  {
   "cell_type": "code",
   "execution_count": 145,
   "id": "209a151e",
   "metadata": {},
   "outputs": [],
   "source": [
    "url = \"https://en.wikipedia.org/wiki/List_of_Korean_surnames\"\n",
    "\n",
    "response = requests.get(url)\n",
    "soup = BeautifulSoup(response.content, \"html.parser\")\n",
    "tables = soup.find_all(\"table\", class_=\"wikitable\")\n",
    "\n",
    "surnames1 = pd.read_html(str(tables[0]), header=0)[0][[\"Hangul[1]\"]]\n",
    "surnames1.drop(surnames1.index[-1], inplace=True)\n",
    "surnames1.rename(columns={\"Hangul[1]\": \"성\"}, inplace=True)\n",
    "surnames2 = pd.read_html(str(tables[1]), header=0)[0][[\"Hangul[7]\"]]\n",
    "surnames2.rename(columns={\"Hangul[7]\": \"성\"}, inplace=True)\n",
    "\n",
    "surnames = pd.concat([surnames1, surnames2])"
   ]
  },
  {
   "cell_type": "code",
   "execution_count": 137,
   "id": "dd52deb2",
   "metadata": {},
   "outputs": [
    {
     "data": {
      "text/html": [
       "<div>\n",
       "<style scoped>\n",
       "    .dataframe tbody tr th:only-of-type {\n",
       "        vertical-align: middle;\n",
       "    }\n",
       "\n",
       "    .dataframe tbody tr th {\n",
       "        vertical-align: top;\n",
       "    }\n",
       "\n",
       "    .dataframe thead th {\n",
       "        text-align: right;\n",
       "    }\n",
       "</style>\n",
       "<table border=\"1\" class=\"dataframe\">\n",
       "  <thead>\n",
       "    <tr style=\"text-align: right;\">\n",
       "      <th></th>\n",
       "      <th>이름</th>\n",
       "      <th>성</th>\n",
       "      <th>년</th>\n",
       "    </tr>\n",
       "  </thead>\n",
       "  <tbody>\n",
       "    <tr>\n",
       "      <th>0</th>\n",
       "      <td>민준</td>\n",
       "      <td>남</td>\n",
       "      <td>2004</td>\n",
       "    </tr>\n",
       "    <tr>\n",
       "      <th>1</th>\n",
       "      <td>지훈</td>\n",
       "      <td>남</td>\n",
       "      <td>2004</td>\n",
       "    </tr>\n",
       "    <tr>\n",
       "      <th>2</th>\n",
       "      <td>현우</td>\n",
       "      <td>남</td>\n",
       "      <td>2004</td>\n",
       "    </tr>\n",
       "    <tr>\n",
       "      <th>3</th>\n",
       "      <td>준서</td>\n",
       "      <td>남</td>\n",
       "      <td>2004</td>\n",
       "    </tr>\n",
       "    <tr>\n",
       "      <th>4</th>\n",
       "      <td>우진</td>\n",
       "      <td>남</td>\n",
       "      <td>2004</td>\n",
       "    </tr>\n",
       "    <tr>\n",
       "      <th>5</th>\n",
       "      <td>건우</td>\n",
       "      <td>남</td>\n",
       "      <td>2004</td>\n",
       "    </tr>\n",
       "    <tr>\n",
       "      <th>6</th>\n",
       "      <td>예준</td>\n",
       "      <td>남</td>\n",
       "      <td>2004</td>\n",
       "    </tr>\n",
       "    <tr>\n",
       "      <th>7</th>\n",
       "      <td>현준</td>\n",
       "      <td>남</td>\n",
       "      <td>2004</td>\n",
       "    </tr>\n",
       "    <tr>\n",
       "      <th>8</th>\n",
       "      <td>도현</td>\n",
       "      <td>남</td>\n",
       "      <td>2004</td>\n",
       "    </tr>\n",
       "    <tr>\n",
       "      <th>9</th>\n",
       "      <td>동현</td>\n",
       "      <td>남</td>\n",
       "      <td>2004</td>\n",
       "    </tr>\n",
       "    <tr>\n",
       "      <th>0</th>\n",
       "      <td>서연</td>\n",
       "      <td>여</td>\n",
       "      <td>2004</td>\n",
       "    </tr>\n",
       "    <tr>\n",
       "      <th>1</th>\n",
       "      <td>민서</td>\n",
       "      <td>여</td>\n",
       "      <td>2004</td>\n",
       "    </tr>\n",
       "    <tr>\n",
       "      <th>2</th>\n",
       "      <td>지민</td>\n",
       "      <td>여</td>\n",
       "      <td>2004</td>\n",
       "    </tr>\n",
       "    <tr>\n",
       "      <th>3</th>\n",
       "      <td>서현</td>\n",
       "      <td>여</td>\n",
       "      <td>2004</td>\n",
       "    </tr>\n",
       "    <tr>\n",
       "      <th>4</th>\n",
       "      <td>서윤</td>\n",
       "      <td>여</td>\n",
       "      <td>2004</td>\n",
       "    </tr>\n",
       "    <tr>\n",
       "      <th>5</th>\n",
       "      <td>예은</td>\n",
       "      <td>여</td>\n",
       "      <td>2004</td>\n",
       "    </tr>\n",
       "    <tr>\n",
       "      <th>6</th>\n",
       "      <td>하은</td>\n",
       "      <td>여</td>\n",
       "      <td>2004</td>\n",
       "    </tr>\n",
       "    <tr>\n",
       "      <th>7</th>\n",
       "      <td>지우</td>\n",
       "      <td>여</td>\n",
       "      <td>2004</td>\n",
       "    </tr>\n",
       "    <tr>\n",
       "      <th>8</th>\n",
       "      <td>수빈</td>\n",
       "      <td>여</td>\n",
       "      <td>2004</td>\n",
       "    </tr>\n",
       "    <tr>\n",
       "      <th>9</th>\n",
       "      <td>윤서</td>\n",
       "      <td>여</td>\n",
       "      <td>2004</td>\n",
       "    </tr>\n",
       "  </tbody>\n",
       "</table>\n",
       "</div>"
      ],
      "text/plain": [
       "   이름  성     년\n",
       "0  민준  남  2004\n",
       "1  지훈  남  2004\n",
       "2  현우  남  2004\n",
       "3  준서  남  2004\n",
       "4  우진  남  2004\n",
       "5  건우  남  2004\n",
       "6  예준  남  2004\n",
       "7  현준  남  2004\n",
       "8  도현  남  2004\n",
       "9  동현  남  2004\n",
       "0  서연  여  2004\n",
       "1  민서  여  2004\n",
       "2  지민  여  2004\n",
       "3  서현  여  2004\n",
       "4  서윤  여  2004\n",
       "5  예은  여  2004\n",
       "6  하은  여  2004\n",
       "7  지우  여  2004\n",
       "8  수빈  여  2004\n",
       "9  윤서  여  2004"
      ]
     },
     "execution_count": 137,
     "metadata": {},
     "output_type": "execute_result"
    }
   ],
   "source": [
    "subset = popular_names[popular_names[\"년\"] == 2004]\n",
    "subset"
   ]
  },
  {
   "cell_type": "code",
   "execution_count": 164,
   "id": "22430161",
   "metadata": {},
   "outputs": [],
   "source": [
    "boys = subset[subset[\"성\"] == \"남\"]\n",
    "girls = subset[subset[\"성\"] == \"여\"]\n",
    "\n",
    "distributions = []\n",
    "\n",
    "#이름궁합 distribution for 가민준\n",
    "for i, boy in boys.head(1).iterrows(): #boys.iterrows():\n",
    "    distribution = []\n",
    "    for j, girl in girls.iterrows():\n",
    "        for k, surname_k in surnames.head(1).iterrows(): #surnames.iterrows():\n",
    "            for l, surname_l in surnames.iterrows():\n",
    "                name1 = f'{surname_k[\"성\"]}{boy[\"이름\"]}'\n",
    "                name2 = f'{surname_l[\"성\"]}{girl[\"이름\"]}'\n",
    "                decomposition = [map_strokes(char, i) for i, char in enumerate(decompose(arrange_names(\"이샘\", name2)))]\n",
    "                이름점 = [sum(decomposition[i:i+3]) for i in range(0, len(decomposition)-2, 3)]\n",
    "                평가 = 평가하기(이름점)\n",
    "                distribution.append(평가)\n",
    "    distributions.append(distribution)"
   ]
  },
  {
   "cell_type": "code",
   "execution_count": 166,
   "id": "892e4d0f",
   "metadata": {},
   "outputs": [
    {
     "data": {
      "image/png": "[encoded data removed]",
      "text/plain": [
       "<Figure size 640x480 with 1 Axes>"
      ]
     },
     "metadata": {},
     "output_type": "display_data"
    }
   ],
   "source": [
    "import matplotlib.pyplot as plt\n",
    "import numpy as np\n",
    "\n",
    "def plot_distribution(data):\n",
    "    plt.hist(data, bins=np.arange(min(data), max(data) + 1.5) - 0.5, alpha=0.7)\n",
    "    plt.title('Histogram of Scores')\n",
    "    plt.show()\n",
    "    \n",
    "plot_distribution(distributions[0])"
   ]
  },
  {
   "cell_type": "code",
   "execution_count": 181,
   "id": "e67aef96",
   "metadata": {},
   "outputs": [],
   "source": [
    "max_indices = np.where(distributions[0] == np.max(distributions[0]))"
   ]
  },
  {
   "cell_type": "code",
   "execution_count": 201,
   "id": "adcda513",
   "metadata": {},
   "outputs": [
    {
     "data": {
      "text/plain": [
       "[99, 99, 99, 99, 99, 99, 99, 99, 99, 99, 99, 99, 99, 99, 99, 99, 99, 99, 99]"
      ]
     },
     "execution_count": 201,
     "metadata": {},
     "output_type": "execute_result"
    }
   ],
   "source": [
    "decompositions = [\n",
    "    [\n",
    "        map_strokes(char, i) \n",
    "        for i, char in enumerate(decompose(arrange_names(\"이샘\", f'{surnames.iloc[x % 217][\"성\"]}{girls.iloc[x // 217][\"이름\"]}')))\n",
    "    ] \n",
    "    for x in max_indices[0]\n",
    "]\n",
    "\n",
    "[\n",
    "    평가하기([sum(decomposition[i:i+3]) for i in range(0, len(decomposition)-2, 3)]) for decomposition in decompositions\n",
    "]"
   ]
  },
  {
   "cell_type": "code",
   "execution_count": 204,
   "id": "4a6d2e8f",
   "metadata": {},
   "outputs": [
    {
     "data": {
      "text/plain": [
       "['감민서',\n",
       " '곽민서',\n",
       " '관민서',\n",
       " '길민서',\n",
       " '남민서',\n",
       " '독민서',\n",
       " '돈민서',\n",
       " '랑민서',\n",
       " '려민서',\n",
       " '로민서',\n",
       " '만민서',\n",
       " '맹민서',\n",
       " '명민서',\n",
       " '박민서',\n",
       " '반민서',\n",
       " '번민서',\n",
       " '봉민서',\n",
       " '삼민서',\n",
       " '섭민서',\n",
       " '염민서',\n",
       " '엽민서',\n",
       " '육민서',\n",
       " '윤민서',\n",
       " '음민서',\n",
       " '천민서',\n",
       " '총민서',\n",
       " '최민서',\n",
       " '탁민서',\n",
       " '탄민서',\n",
       " '판민서',\n",
       " '팽민서',\n",
       " '평민서',\n",
       " '풍민서',\n",
       " '현민서',\n",
       " '황민서',\n",
       " '돈민서',\n",
       " '준민서',\n",
       " '사공서현',\n",
       " '선우서현',\n",
       " '황보서현',\n",
       " '사공서윤',\n",
       " '선우서윤',\n",
       " '황보서윤',\n",
       " '이하은']"
      ]
     },
     "execution_count": 204,
     "metadata": {},
     "output_type": "execute_result"
    }
   ],
   "source": [
    "[\n",
    " f'{surnames.iloc[x % 217][\"성\"]}{girls.iloc[x // 217][\"이름\"]}'\n",
    "    for x in np.where(distributions[0] == np.max(distributions[0]))[0]\n",
    "]\n",
    "\n",
    "[\n",
    " f'{surnames.iloc[x % 217][\"성\"]}{girls.iloc[x // 217][\"이름\"]}'\n",
    "    for x in np.where(distributions[0] == np.min(distributions[0]))[0]\n",
    "]"
   ]
  }
 ],
 "metadata": {
  "kernelspec": {
   "display_name": "Python 3 (ipykernel)",
   "language": "python",
   "name": "python3"
  },
  "language_info": {
   "codemirror_mode": {
    "name": "ipython",
    "version": 3
   },
   "file_extension": ".py",
   "mimetype": "text/x-python",
   "name": "python",
   "nbconvert_exporter": "python",
   "pygments_lexer": "ipython3",
   "version": "3.11.2"
  }
 },
 "nbformat": 4,
 "nbformat_minor": 5
}
